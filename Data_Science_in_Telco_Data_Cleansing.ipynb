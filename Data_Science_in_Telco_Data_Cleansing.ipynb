{
  "nbformat": 4,
  "nbformat_minor": 0,
  "metadata": {
    "colab": {
      "provenance": [],
      "authorship_tag": "ABX9TyMcaWfYGHURFNUzwDuQnLKX"
    },
    "kernelspec": {
      "name": "python3",
      "display_name": "Python 3"
    },
    "language_info": {
      "name": "python"
    }
  },
  "cells": [
    {
      "cell_type": "markdown",
      "source": [
        "# **1. Introduction**"
      ],
      "metadata": {
        "id": "_beELGTP7N5_"
      }
    },
    {
      "cell_type": "markdown",
      "source": [
        "## Latar Belakang"
      ],
      "metadata": {
        "id": "3Uz-F5Kf7gwv"
      }
    },
    {
      "cell_type": "markdown",
      "source": [
        "DQLab Telco merupakan perusahaan Telco yang sudah mempunyai banyak cabang tersebar dimana-mana. Sejak berdiri pada tahun 2019, DQLab Telco konsisten untuk memperhatikan customer experience-nya sehingga tidak akan ditinggalkan pelanggan.\n",
        "\n",
        "Walaupun baru berumur 1 tahun lebih sedikit, DQLab Telco sudah mempunyai banyak pelanggan yang beralih langganan ke kompetitor. Pihak management ingin mengurangi jumlah pelanggan yang beralih (churn) dengan menggunakan machine learning.\n",
        "\n",
        "Oleh karena itu, tim Data Scientist diminta untuk mempersiapkan data sekaligus membuat model prediksi yang tepat untuk menentukan pelanggan akan berhenti berlangganan (churn) atau tidak."
      ],
      "metadata": {
        "id": "O_j55rQ37n_J"
      }
    },
    {
      "cell_type": "markdown",
      "source": [
        "## Tugas dan Langkah"
      ],
      "metadata": {
        "id": "tDPwmwHP7vLq"
      }
    },
    {
      "cell_type": "markdown",
      "source": [
        "Sebagai seorang data scientist, kamu diminta untuk menyiapkan data sebelum dilakukan permodelan.\n",
        "\n",
        "Pada tugas kali ini, kamu akan melakukan Data Preprocessing (Data Cleansing) bulan lalu, yakni Juni 2020.\n",
        "\n",
        "Langkah yang akan dilakukan adalah,\n",
        "\n",
        "1. Mencari ID pelanggan (Nomor telepon) yang valid\n",
        "2. Mengatasi data-data yang masih kosong (Missing Values)\n",
        "3. Mengatasi Nilai-Nilai Pencilan (Outlier) dari setiap Variable\n",
        "4. Menstandardisasi Nilai dari Variable"
      ],
      "metadata": {
        "id": "RQ1bttZm7yJ_"
      }
    },
    {
      "cell_type": "markdown",
      "source": [
        "# **2. Library dan Data yang Digunakan**"
      ],
      "metadata": {
        "id": "Sm6M_wAz7_O3"
      }
    },
    {
      "cell_type": "markdown",
      "source": [
        "## Library yang Digunakan"
      ],
      "metadata": {
        "id": "mm13Ew2j8Cq9"
      }
    },
    {
      "cell_type": "markdown",
      "source": [
        "Pada analisis kali ini, akan digunakan beberapa package yang membantu kita dalam melakukan analisis data.\n",
        "\n",
        "1. Pandas\n",
        "\n",
        "  Pandas (Python for Data Analysis) adalah library Python yang fokus untuk proses analisis data seperti manipulasi data, persiapan data, dan pembersihan data.\n",
        "\n",
        "  * read_csv() digunakan untuk membaca file csv\n",
        "  * str.match() digunakan untuk mencocokan dengan karakter tertentu\n",
        "  * drop() digunakan untuk menghapus\n",
        "  * count() digunakan untuk menghitung masing-masing variable\n",
        "  * drop_duplicates() digunakan untuk menghapus data duplicate rows\n",
        "  * fillna() digunakan untuk mengisi dengan nilai tertentu\n",
        "  * quantile() digunakan untuk melihat quantile ke tertentu\n",
        "  * mask() mengganti nilai tertentu jika kondisi memenuhi\n",
        "  * astype() mengubah tipe data\n",
        "  * value_counts() digunakan untuk menghitung unik dari kolom\n",
        "  * sort_values() digunakan untuk sort values\n",
        "  * isnull() digunakan untuk mendeteksi missing values\n",
        "  * dropna() digunakan untuk menghapus missing values\n",
        "  * replace() digunakan untuk mengganti nilai\n",
        "2. Matplotlib\n",
        "\n",
        "  Matplotlib adalah library Python yang fokus pada visualisasi data seperti membuat plot grafik. Matplotlib dapat digunakan dalam skrip Python, Python dan IPython shell, server aplikasi web, dan beberapa toolkit graphical user interface (GUI) lainnya.\n",
        "\n",
        "  * figure() digunakan untuk membuat figure gambar baru\n",
        "3. Seaborn\n",
        "\n",
        "  Seaborn membangun di atas Matplotlib dan memperkenalkan tipe plot tambahan. Ini juga membuat plot Matplotlib tradisional Anda terlihat sedikit lebih cantik.\n",
        "\n",
        "  * box_plot() digunakan untuk membuat box plot"
      ],
      "metadata": {
        "id": "-Cl0Ex788Gvz"
      }
    },
    {
      "cell_type": "markdown",
      "source": [
        "## Data yang Digunakan"
      ],
      "metadata": {
        "id": "zfidQoWX805n"
      }
    },
    {
      "cell_type": "markdown",
      "source": [
        "Untuk dataset yang digunakan sudah disediakan dalam format csv, silahkan baca melalui fungsi pandas di python df_load = pd.read_csv('https://storage.googleapis.com/dqlab-dataset/dqlab_telco.csv')\n",
        "\n",
        "\n",
        "Untuk detail datanya adalah sebagai berikut:\n",
        "\n",
        "* UpdatedAt Periode of Data taken\n",
        "* customerID Customer ID\n",
        "* gender Whether the customer is a male or a female (Male, Female)\n",
        "* SeniorCitizen Whether the customer is a senior citizen or not (1, 0)\n",
        "* Partner Whether the customer has a partner or not (Yes, No)\n",
        "* Dependents Whether the customer has dependents or not (Yes, No)\n",
        "* tenure Number of months the customer has stayed with the company\n",
        "* PhoneService Whether the customer has a phone service or not (Yes, No)\n",
        "* MultipleLines Whether the customer has multiple lines or not (Yes, No, No phone service)\n",
        "* InternetService Customer’s internet service provider (DSL, Fiber optic, No)\n",
        "* OnlineSecurity Whether the customer has online security or not (Yes, No, No internet service)\n",
        "* OnlineBackup Whether the customer has online backup or not (Yes, No, No internet service)\n",
        "* DeviceProtection Whether the customer has device protection or not (Yes, No, No internet service)\n",
        "* TechSupport Whether the customer has tech support or not (Yes, No, No internet service)\n",
        "* StreamingTV Whether the customer has streaming TV or not (Yes, No, No internet service)\n",
        "* StreamingMovies Whether the customer has streaming movies or not (Yes, No, No internet service)\n",
        "* Contract The contract term of the customer (Month-to-month, One year, Two year)\n",
        "* PaperlessBilling Whether the customer has paperless billing or not (Yes, No)\n",
        "* PaymentMethod The customer’s payment method (Electronic check, Mailed check, Bank transfer (automatic), Credit card (automatic))\n",
        "* MonthlyCharges The amount charged to the customer monthly\n",
        "* TotalCharges The total amount charged to the customer\n",
        "* Churn Whether the customer churned or not (Yes or No)"
      ],
      "metadata": {
        "id": "Ux4JUuXi83oE"
      }
    },
    {
      "cell_type": "markdown",
      "source": [
        "## Import Library dan Dataset"
      ],
      "metadata": {
        "id": "DwBZMi7K9xHv"
      }
    },
    {
      "cell_type": "markdown",
      "source": [
        "Berdasarkan penjelasan mengenai library dan dataset yang akan digunakan, sekarang hal pertama yang akan kita lakukan adalah melakukan import library dan dataset ke dalam workspace kita.\n",
        "\n",
        "Setelah dataset di-import ke dalam workspace, tampilkan jumlah kolom dan baris dari data set dengan menggunakan .shape dan print 5 baris teratas dengan menggunakan head() dan carilah ada berapa jumlah customerID yang bersifat unique dengan menggunakan .nunique"
      ],
      "metadata": {
        "id": "D6VDHSZs92UF"
      }
    },
    {
      "cell_type": "code",
      "execution_count": null,
      "metadata": {
        "colab": {
          "base_uri": "https://localhost:8080/"
        },
        "id": "8koZ8M4Q7K7O",
        "outputId": "4d78df6d-4e4f-4d36-9cb4-232b8874e57a"
      },
      "outputs": [
        {
          "output_type": "stream",
          "name": "stdout",
          "text": [
            "(7113, 22)\n",
            "   UpdatedAt   customerID  gender  SeniorCitizen Partner Dependents  tenure  \\\n",
            "0     202006  45759018157  Female              0     Yes         No     1.0   \n",
            "1     202006  45557574145    Male              0      No         No    34.0   \n",
            "2     202006  45366876421    Male              0      No         No     2.0   \n",
            "3     202006  45779536532    Male              0      No         No    45.0   \n",
            "4     202006  45923787906  Female              0      No         No     2.0   \n",
            "\n",
            "  PhoneService     MultipleLines InternetService OnlineSecurity OnlineBackup  \\\n",
            "0           No  No phone service             DSL             No          Yes   \n",
            "1          Yes                No             DSL            Yes           No   \n",
            "2          Yes                No             DSL            Yes          Yes   \n",
            "3           No  No phone service             DSL            Yes           No   \n",
            "4          Yes                No     Fiber optic             No           No   \n",
            "\n",
            "  DeviceProtection TechSupport StreamingTV StreamingMovies        Contract  \\\n",
            "0               No          No          No              No  Month-to-month   \n",
            "1              Yes          No          No              No        One year   \n",
            "2               No          No          No              No  Month-to-month   \n",
            "3              Yes         Yes          No              No        One year   \n",
            "4               No          No          No              No  Month-to-month   \n",
            "\n",
            "  PaperlessBilling              PaymentMethod  MonthlyCharges  TotalCharges  \\\n",
            "0              Yes           Electronic check           29.85         29.85   \n",
            "1               No               Mailed check           56.95       1889.50   \n",
            "2              Yes               Mailed check           53.85        108.15   \n",
            "3               No  Bank transfer (automatic)           42.30       1840.75   \n",
            "4              Yes           Electronic check           70.70        151.65   \n",
            "\n",
            "  Churn  \n",
            "0    No  \n",
            "1    No  \n",
            "2   Yes  \n",
            "3    No  \n",
            "4   Yes  \n",
            "7017\n"
          ]
        }
      ],
      "source": [
        "#import library\n",
        "import pandas as pd\n",
        "pd.options.display.max_columns = 50\n",
        "\n",
        "#import dataset\n",
        "df_load = pd.read_csv('https://storage.googleapis.com/dqlab-dataset/dqlab_telco.csv')\n",
        "\n",
        "#Tampilkan jumlah baris dan kolom\n",
        "print(df_load.shape)\n",
        "\n",
        "#Tampilkan 5 data teratas\n",
        "print(df_load.head(5))\n",
        "\n",
        "#Jumlah ID yang unik\n",
        "print(df_load.customerID.nunique())"
      ]
    },
    {
      "cell_type": "markdown",
      "source": [
        "# **3. Mencari Validitas ID Number Pelanggan**"
      ],
      "metadata": {
        "id": "Dr53A7z2-gcG"
      }
    },
    {
      "cell_type": "markdown",
      "source": [
        "## Memfilter ID Number Pelanggan Format Tertentu"
      ],
      "metadata": {
        "id": "jjgi-4Va-oh3"
      }
    },
    {
      "cell_type": "markdown",
      "source": [
        "Mencari format ID Number (Phone Number) Pelanggan customerID yang benar, dengan kriteria:\n",
        "\n",
        "Panjang karakter adalah 11-12.\n",
        "Terdiri dari angka Saja, tidak diperbolehkan ada karakter selain angka\n",
        "Diawali dengan angka 45 2 digit pertama.\n",
        "\n",
        "Gunakan fungsi count() untuk menghitung banyaknya rows Customer ID, anda juga bisa menggunakan str.match() & regex untuk mencocokan dengan kriteria diatas. Jangan lupa gunakan astype() untuk merubah tipe datanya yang semula numeric\n",
        "\n",
        "Notes : Buat kolom bantuan baru dengan nama `valid_id`"
      ],
      "metadata": {
        "id": "9KpVAmNv-s5b"
      }
    },
    {
      "cell_type": "code",
      "source": [
        "df_load['valid_id'] = df_load['customerID'].astype(str).str.match(r'(45\\d{9,10})')\n",
        "df_load = (df_load[df_load['valid_id'] == True]).drop('valid_id', axis = 1)\n",
        "print('Hasil jumlah ID Customer yang terfilter adalah', df_load['customerID'].count())"
      ],
      "metadata": {
        "colab": {
          "base_uri": "https://localhost:8080/"
        },
        "id": "Ks8GfZ6Y-xbO",
        "outputId": "fcf37cea-91f0-4cd7-fc35-54b9177645a6"
      },
      "execution_count": null,
      "outputs": [
        {
          "output_type": "stream",
          "name": "stdout",
          "text": [
            "Hasil jumlah ID Customer yang terfilter adalah 7006\n"
          ]
        }
      ]
    },
    {
      "cell_type": "markdown",
      "source": [
        "## Memfilter Duplikasi ID Number Pelanggan"
      ],
      "metadata": {
        "id": "fFmTyqKA--1o"
      }
    },
    {
      "cell_type": "markdown",
      "source": [
        "Memastikan bahwa tidak ada Id Number pelanggan yang duplikat. Biasanya duplikasi ID number ini tipenya:\n",
        "\n",
        "Duplikasi dikarenakan inserting melebihi satu kali dengan nilai yang sama tiap kolomnya\n",
        "Duplikasi dikarenakan inserting beda periode pengambilan data\n",
        "Gunakan hasil dari pengolahan di tahap sebelumnya df_load untuk diolah di tahap ini. Gunakan fungsi drop_duplicates() untuk menghapus duplikasi rows, dan gunakan sort_values() untuk mengecek pengambilan data terakhir."
      ],
      "metadata": {
        "id": "v9HW-jvr_Mkq"
      }
    },
    {
      "cell_type": "code",
      "source": [
        "# Drop Duplicate Rows\n",
        "df_load.drop_duplicates()\n",
        "# Drop duplicate ID sorted by Periode\n",
        "df_load = df_load.sort_values('UpdatedAt', ascending=False).drop_duplicates('customerID')\n",
        "print('Hasil jumlah ID Customer yang sudah dihilangkan duplikasinya (distinct) adalah',df_load['customerID'].count())"
      ],
      "metadata": {
        "colab": {
          "base_uri": "https://localhost:8080/"
        },
        "id": "4KMaPI5r_Qlq",
        "outputId": "8eeeed52-cd2f-4a74-b8cb-4983f7ccb13a"
      },
      "execution_count": null,
      "outputs": [
        {
          "output_type": "stream",
          "name": "stdout",
          "text": [
            "Hasil jumlah ID Customer yang sudah dihilangkan duplikasinya (distinct) adalah 6993\n"
          ]
        }
      ]
    },
    {
      "cell_type": "markdown",
      "source": [
        "## Kesimpulan"
      ],
      "metadata": {
        "id": "BXuaKh5h_has"
      }
    },
    {
      "cell_type": "markdown",
      "source": [
        "Validitas dari ID Number pelanggan sangat diperlukan untuk memastikan bahwa data yang kita ambil sudah benar. Berdasarkan hasil tersebut, terdapat perbedaan jumlah nomor ID dari data pertama kali di load sampai dengan hasil akhir. Jumlah row data ketika pertama kali di load ada sebanyak 7113 rows dan 22 columns dengan 7017 jumlah ID yang unique. Kemudian setelah di cek validitas dari ID pelanggan, maka tersisa 6993 rows data"
      ],
      "metadata": {
        "id": "jux5Bx0iBur1"
      }
    },
    {
      "cell_type": "markdown",
      "source": [
        "# **4. Mengatasi Missing Values**"
      ],
      "metadata": {
        "id": "dAhVs53NBp_H"
      }
    },
    {
      "cell_type": "markdown",
      "source": [
        "## Mengatasi Missing Values dengan Penghapusan Rows"
      ],
      "metadata": {
        "id": "Fe6CyszZBxrU"
      }
    },
    {
      "cell_type": "markdown",
      "source": [
        "Selanjutnya kita akan menghapus rows dari data-data yang tidak terdeteksi apakah dia churn atau tidak. Diasumsikan data modeller hanya mau menerima data yang benar ada flag churn-nya atau tidak.\n",
        "\n",
        "Gunakan isnull() digunakan untuk mendeteksi missing values dan dropna() untuk menghapus data yang missing values."
      ],
      "metadata": {
        "id": "zH5uI1VdCPyN"
      }
    },
    {
      "cell_type": "code",
      "source": [
        "print('Total missing values data dari kolom Churn',df_load['Churn'].isnull().sum())\n",
        "# Dropping all Rows with spesific column (churn)\n",
        "df_load.dropna(subset=['Churn'],inplace=True)\n",
        "print('Total Rows dan kolom Data setelah dihapus data Missing Values adalah',df_load.shape)"
      ],
      "metadata": {
        "colab": {
          "base_uri": "https://localhost:8080/"
        },
        "id": "e1h2FPmkCVHk",
        "outputId": "a11dc205-fe25-44f6-9ec8-d5a5c908a10a"
      },
      "execution_count": null,
      "outputs": [
        {
          "output_type": "stream",
          "name": "stdout",
          "text": [
            "Total missing values data dari kolom Churn 43\n",
            "Total Rows dan kolom Data setelah dihapus data Missing Values adalah (6950, 22)\n"
          ]
        }
      ]
    },
    {
      "cell_type": "markdown",
      "source": [
        "## Mengatasi Missing Values dengan Pengisian Nilai tertentu"
      ],
      "metadata": {
        "id": "0S_6xhEUCnv7"
      }
    },
    {
      "cell_type": "markdown",
      "source": [
        "Selain dengan menghapus rows dari data, menangani missing values bisa menggunakan nilai tertentu. Diasumsikan data modeller meminta pengisian missing values dengan kriteria berikut:\n",
        "\n",
        "* Tenure pihak data modeller meminta setiap rows yang memiliki missing values untuk lama berlangganan di isi dengan 11.\n",
        "\n",
        "* Variable yang bersifat numeric selain Tenure di isi dengan median dari masing-masing variable tersebut.\n",
        "\n",
        "Tentukan:\n",
        "\n",
        "* Apakah masih ada data yang missing values\n",
        "* Jumlah missing values dari masing-masing variable\n",
        "* Tangani missing values-nya"
      ],
      "metadata": {
        "id": "ZjAohRc7CqQn"
      }
    },
    {
      "cell_type": "code",
      "source": [
        "print('Status Missing Values :',df_load.isnull().values.any())\n",
        "print('\\nJumlah Missing Values masing-masing kolom, adalah:')\n",
        "print(df_load.isnull().sum().sort_values(ascending=False))\n",
        "\n",
        "# handling missing values Tenure fill with 11\n",
        "df_load['tenure'].fillna(11, inplace=True)\n",
        "\n",
        "# Handling missing values num vars (except Tenure)\n",
        "for col_name in list(['MonthlyCharges','TotalCharges']):\n",
        "\tmedian = df_load[col_name].median()\n",
        "\tdf_load[col_name].fillna(median, inplace=True)\n",
        "\n",
        "print('\\nJumlah Missing Values setelah di imputer datanya, adalah:')\n",
        "print(df_load.isnull().sum().sort_values(ascending=False))"
      ],
      "metadata": {
        "colab": {
          "base_uri": "https://localhost:8080/"
        },
        "id": "Qwie2mVhC3Gb",
        "outputId": "1dcd98d1-53ca-48ff-e1f2-006bce199000"
      },
      "execution_count": null,
      "outputs": [
        {
          "output_type": "stream",
          "name": "stdout",
          "text": [
            "Status Missing Values : True\n",
            "\n",
            "Jumlah Missing Values masing-masing kolom, adalah:\n",
            "tenure              99\n",
            "MonthlyCharges      26\n",
            "TotalCharges        15\n",
            "gender               0\n",
            "UpdatedAt            0\n",
            "customerID           0\n",
            "Dependents           0\n",
            "Partner              0\n",
            "SeniorCitizen        0\n",
            "PhoneService         0\n",
            "OnlineSecurity       0\n",
            "OnlineBackup         0\n",
            "MultipleLines        0\n",
            "InternetService      0\n",
            "TechSupport          0\n",
            "DeviceProtection     0\n",
            "StreamingTV          0\n",
            "StreamingMovies      0\n",
            "PaperlessBilling     0\n",
            "Contract             0\n",
            "PaymentMethod        0\n",
            "Churn                0\n",
            "dtype: int64\n",
            "\n",
            "Jumlah Missing Values setelah di imputer datanya, adalah:\n",
            "UpdatedAt           0\n",
            "customerID          0\n",
            "gender              0\n",
            "SeniorCitizen       0\n",
            "Partner             0\n",
            "Dependents          0\n",
            "tenure              0\n",
            "PhoneService        0\n",
            "MultipleLines       0\n",
            "InternetService     0\n",
            "OnlineSecurity      0\n",
            "OnlineBackup        0\n",
            "DeviceProtection    0\n",
            "TechSupport         0\n",
            "StreamingTV         0\n",
            "StreamingMovies     0\n",
            "Contract            0\n",
            "PaperlessBilling    0\n",
            "PaymentMethod       0\n",
            "MonthlyCharges      0\n",
            "TotalCharges        0\n",
            "Churn               0\n",
            "dtype: int64\n"
          ]
        },
        {
          "output_type": "stream",
          "name": "stderr",
          "text": [
            "<ipython-input-5-b45ac6d50595>:6: FutureWarning: A value is trying to be set on a copy of a DataFrame or Series through chained assignment using an inplace method.\n",
            "The behavior will change in pandas 3.0. This inplace method will never work because the intermediate object on which we are setting values always behaves as a copy.\n",
            "\n",
            "For example, when doing 'df[col].method(value, inplace=True)', try using 'df.method({col: value}, inplace=True)' or df[col] = df[col].method(value) instead, to perform the operation inplace on the original object.\n",
            "\n",
            "\n",
            "  df_load['tenure'].fillna(11, inplace=True)\n",
            "<ipython-input-5-b45ac6d50595>:11: FutureWarning: A value is trying to be set on a copy of a DataFrame or Series through chained assignment using an inplace method.\n",
            "The behavior will change in pandas 3.0. This inplace method will never work because the intermediate object on which we are setting values always behaves as a copy.\n",
            "\n",
            "For example, when doing 'df[col].method(value, inplace=True)', try using 'df.method({col: value}, inplace=True)' or df[col] = df[col].method(value) instead, to perform the operation inplace on the original object.\n",
            "\n",
            "\n",
            "  df_load[col_name].fillna(median, inplace=True)\n"
          ]
        }
      ]
    },
    {
      "cell_type": "markdown",
      "source": [
        "## Kesimpulan"
      ],
      "metadata": {
        "id": "GY8MPAb_D9bG"
      }
    },
    {
      "cell_type": "markdown",
      "source": [
        "Setelah kita analisis lebih lanjut, ternyata masih ada missing values dari data yang kita sudah validkan Id Number pelanggannya. Missing values terdapat pada kolom Churn, tenure, MonthlyCharges & TotalCharges. Setelah kita tangani dengan cara penghapusan rows dan pengisian rows dengan nilai tertentu, terbukti sudah tidak ada missing values lagi pada data, terbukti dari jumlah missing values masing-masing variable yang bernilai 0. Selanjutnya kita akan melakukan penanganan pencilan (outlier)"
      ],
      "metadata": {
        "id": "-fzMcXuUEDC0"
      }
    },
    {
      "cell_type": "markdown",
      "source": [
        "# **5. Mengatasi Outlier**"
      ],
      "metadata": {
        "id": "3JV59Is7EFyE"
      }
    },
    {
      "cell_type": "markdown",
      "source": [
        "## Mendeteksi Adanya Outlier Menggunakan Boxplot"
      ],
      "metadata": {
        "id": "kt9rinG6ENo6"
      }
    },
    {
      "cell_type": "markdown",
      "source": [
        "Mendeteksi pencilan dari suatu nilai (outlier) salah satunya bisa melihat plot dari data tersebut menggunakan boxplot. Boxplot merupakan ringkasan distribusi sampel yang disajikan secara grafis yang bisa menggambarkan bentuk distribusi data (skewness), ukuran tendensi sentral dan ukuran penyebaran (keragaman).\n",
        "\n",
        "Berikut adalah tampilan umum dari boxplot dalam merepresentasikan outliers.\n",
        "![download (10).png](data:image/png;base64,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)"
      ],
      "metadata": {
        "id": "O74LTvNzERh8"
      }
    },
    {
      "cell_type": "code",
      "source": [
        "print('\\nPersebaran data sebelum ditangani Outlier: ')\n",
        "print(df_load[['tenure','MonthlyCharges','TotalCharges']].describe())\n",
        "\n",
        "# Creating Box Plot\n",
        "import matplotlib.pyplot as plt\n",
        "import seaborn as sns\n",
        "\n",
        "# Masukkan variable\n",
        "plt.figure() # untuk membuat figure baru\n",
        "sns.boxplot(x=df_load['tenure'])\n",
        "plt.show()\n",
        "plt.figure() # untuk membuat figure baru\n",
        "sns.boxplot(x=df_load['MonthlyCharges'])\n",
        "plt.show()\n",
        "plt.figure() # untuk membuat figure baru\n",
        "sns.boxplot(x=df_load['TotalCharges'])\n",
        "plt.show()"
      ],
      "metadata": {
        "colab": {
          "base_uri": "https://localhost:8080/",
          "height": 1000
        },
        "id": "VwIM9wPzEjrv",
        "outputId": "fa75b9f1-db77-480d-c780-ff8c3ad9427e"
      },
      "execution_count": null,
      "outputs": [
        {
          "output_type": "stream",
          "name": "stdout",
          "text": [
            "\n",
            "Persebaran data sebelum ditangani Outlier: \n",
            "            tenure  MonthlyCharges  TotalCharges\n",
            "count  6950.000000     6950.000000   6950.000000\n",
            "mean     32.477266       65.783741   2305.083460\n",
            "std      25.188910       50.457871   2578.651143\n",
            "min       0.000000        0.000000     19.000000\n",
            "25%       9.000000       36.462500    406.975000\n",
            "50%      29.000000       70.450000   1400.850000\n",
            "75%      55.000000       89.850000   3799.837500\n",
            "max     500.000000     2311.000000  80000.000000\n"
          ]
        },
        {
          "output_type": "display_data",
          "data": {
            "text/plain": [
              "<Figure size 640x480 with 1 Axes>"
            ],
            "image/png": "[encoded data removed]"
          },
          "metadata": {}
        },
        {
          "output_type": "display_data",
          "data": {
            "text/plain": [
              "<Figure size 640x480 with 1 Axes>"
            ],
            "image/png": "[encoded data removed]"
          },
          "metadata": {}
        },
        {
          "output_type": "display_data",
          "data": {
            "text/plain": [
              "<Figure size 640x480 with 1 Axes>"
            ],
            "image/png": "[encoded data removed]"
          },
          "metadata": {}
        }
      ]
    },
    {
      "cell_type": "markdown",
      "source": [
        "## Mengatasi Outlier"
      ],
      "metadata": {
        "id": "G5qdsEjyE9uB"
      }
    },
    {
      "cell_type": "markdown",
      "source": [
        "Setelah kita mengetahui variable mana saja yang terdapat pencilan (outlier), selanjutnya kita akan atasi outlier dengan menggunakan metode interquartile range (IQR).\n",
        "\n",
        "\n",
        "\n",
        "Gunakan hasil dari pengolahan di tahap sebelumnya df_load untuk di olah di tahap ini. Gunakan fungsi quantile() untuk melihat quantile tertentu, dan gunakan mask() untuk me-replace nilai. Tentukan:\n",
        "* Nilai minimum dan maximum data di tolerir\n",
        "* Ubah nilai yang di luar range minimum & maximum ke dalam nilai minimum dan maximum"
      ],
      "metadata": {
        "id": "pmY1RE1fFA2h"
      }
    },
    {
      "cell_type": "code",
      "source": [
        "# Handling with IQR\n",
        "Q1 = (df_load[['tenure','MonthlyCharges','TotalCharges']]).quantile(0.25)\n",
        "Q3 = (df_load[['tenure','MonthlyCharges','TotalCharges']]).quantile(0.75)\n",
        "\n",
        "IQR = Q3 - Q1\n",
        "maximum = Q3 + (1.5*IQR)\n",
        "print('Nilai Maximum dari masing-masing Variable adalah: ')\n",
        "print(maximum)\n",
        "minimum = Q1 - (1.5*IQR)\n",
        "print('\\nNilai Minimum dari masing-masing Variable adalah: ')\n",
        "print(minimum)\n",
        "\n",
        "# Select only the numeric columns for comparison\n",
        "numeric_cols = ['tenure','MonthlyCharges','TotalCharges']\n",
        "more_than = (df_load[numeric_cols] > maximum)\n",
        "lower_than = (df_load[numeric_cols] < minimum)\n",
        "\n",
        "# Apply the mask to the entire DataFrame, but using the boolean masks created\n",
        "df_load[numeric_cols] = df_load[numeric_cols].mask(more_than, maximum, axis=1)\n",
        "df_load[numeric_cols] = df_load[numeric_cols].mask(lower_than, minimum, axis=1)\n",
        "\n",
        "print('\\nPersebaran data setelah ditangani Outlier: ')\n",
        "print(df_load[['tenure','MonthlyCharges','TotalCharges']].describe())\n",
        "\n",
        "# Masukkan variable\n",
        "plt.figure() # untuk membuat figure baru\n",
        "sns.boxplot(x=df_load['tenure'])\n",
        "plt.show()\n",
        "plt.figure() # untuk membuat figure baru\n",
        "sns.boxplot(x=df_load['MonthlyCharges'])\n",
        "plt.show()\n",
        "plt.figure() # untuk membuat figure baru\n",
        "sns.boxplot(x=df_load['TotalCharges'])\n",
        "plt.show()"
      ],
      "metadata": {
        "colab": {
          "base_uri": "https://localhost:8080/",
          "height": 1000
        },
        "id": "4CDCiPSnFJRo",
        "outputId": "d39c84bb-e26f-47c2-9bba-793ed30a689d"
      },
      "execution_count": null,
      "outputs": [
        {
          "output_type": "stream",
          "name": "stdout",
          "text": [
            "Nilai Maximum dari masing-masing Variable adalah: \n",
            "tenure             124.00000\n",
            "MonthlyCharges     169.93125\n",
            "TotalCharges      8889.13125\n",
            "dtype: float64\n",
            "\n",
            "Nilai Minimum dari masing-masing Variable adalah: \n",
            "tenure             -60.00000\n",
            "MonthlyCharges     -43.61875\n",
            "TotalCharges     -4682.31875\n",
            "dtype: float64\n",
            "\n",
            "Persebaran data setelah ditangani Outlier: \n",
            "            tenure  MonthlyCharges  TotalCharges\n",
            "count  6950.000000     6950.000000   6950.000000\n",
            "mean     32.423165       64.992201   2286.058750\n",
            "std      24.581073       30.032040   2265.702553\n",
            "min       0.000000        0.000000     19.000000\n",
            "25%       9.000000       36.462500    406.975000\n",
            "50%      29.000000       70.450000   1400.850000\n",
            "75%      55.000000       89.850000   3799.837500\n",
            "max     124.000000      169.931250   8889.131250\n"
          ]
        },
        {
          "output_type": "display_data",
          "data": {
            "text/plain": [
              "<Figure size 640x480 with 1 Axes>"
            ],
            "image/png": "[encoded data removed]"
          },
          "metadata": {}
        },
        {
          "output_type": "display_data",
          "data": {
            "text/plain": [
              "<Figure size 640x480 with 1 Axes>"
            ],
            "image/png": "[encoded data removed]"
          },
          "metadata": {}
        },
        {
          "output_type": "display_data",
          "data": {
            "text/plain": [
              "<Figure size 640x480 with 1 Axes>"
            ],
            "image/png": "[encoded data removed]"
          },
          "metadata": {}
        }
      ]
    },
    {
      "cell_type": "markdown",
      "source": [
        "## Kesimpulan"
      ],
      "metadata": {
        "id": "IRGzoZXeGM3H"
      }
    },
    {
      "cell_type": "markdown",
      "source": [
        "Dari ketiga boxplot dengan variable 'tenure','MonthlyCharges' & 'TotalCharges' terlihat jelas bahwasannya ada outlier. Hal ini bisa di identifikasi dari adanya titik-titik yang berada jauh dari gambar boxplot-nya. Kemudian kalau kita liat persebaran datanya dari kolom max nya juga ada nilai yang sangat tinggi sekali.\n",
        "\n",
        "Kemudian nilai outlier tersebut ditangani dengan cara merubah nilainya ke nilai maximum & minimum dari interquartile range (IQR). Setelah di tangani outlier-nya, dan dilihat perseberan datanya, terlihat sudah tidak ada lagi nilai yang outlier."
      ],
      "metadata": {
        "id": "Pv0SzQInGNEY"
      }
    },
    {
      "cell_type": "markdown",
      "source": [
        "# **6. Menstandarisasi Nilai**"
      ],
      "metadata": {
        "id": "Fd056noyGX1y"
      }
    },
    {
      "cell_type": "markdown",
      "source": [
        "## Mendeteksi Nilai yang tidak Standar"
      ],
      "metadata": {
        "id": "jFJr1uNIGbpI"
      }
    },
    {
      "cell_type": "markdown",
      "source": [
        "Mendeteksi apakah ada nilai-nilai dari variable kategorik yang tidak standard. Hal ini biasanya terjadi dikarenakan kesalahan input data. Perbedaan istilah menjadi salah satu faktor yang sering terjadi, untuk itu dibutuhkan standardisasi dari data yang sudah ter-input.\n",
        "\n",
        "Gunakan fungsi value_counts() untuk melihat jumlah data unique per variable-nya."
      ],
      "metadata": {
        "id": "bCNW5a_rGfXY"
      }
    },
    {
      "cell_type": "code",
      "source": [
        "# Masukkan variable\n",
        "for col_name in list(['gender','SeniorCitizen','Partner','Dependents','PhoneService','MultipleLines',\n",
        "                      'InternetService','OnlineSecurity','OnlineBackup','DeviceProtection','TechSupport',\n",
        "                      'StreamingTV','StreamingMovies','Contract','PaperlessBilling','PaymentMethod','Churn']):\n",
        "\tprint('\\nUnique Values Count Before Standardized Variable',col_name)\n",
        "\tprint(df_load[col_name].value_counts())"
      ],
      "metadata": {
        "colab": {
          "base_uri": "https://localhost:8080/"
        },
        "id": "naglZM7lGkRf",
        "outputId": "d7141aa4-043e-44dc-8906-4cb22fb80cb7"
      },
      "execution_count": null,
      "outputs": [
        {
          "output_type": "stream",
          "name": "stdout",
          "text": [
            "\n",
            "Unique Values Count Before Standardized Variable gender\n",
            "gender\n",
            "Male         3499\n",
            "Female       3431\n",
            "Wanita         14\n",
            "Laki-Laki       6\n",
            "Name: count, dtype: int64\n",
            "\n",
            "Unique Values Count Before Standardized Variable SeniorCitizen\n",
            "SeniorCitizen\n",
            "0    5822\n",
            "1    1128\n",
            "Name: count, dtype: int64\n",
            "\n",
            "Unique Values Count Before Standardized Variable Partner\n",
            "Partner\n",
            "No     3591\n",
            "Yes    3359\n",
            "Name: count, dtype: int64\n",
            "\n",
            "Unique Values Count Before Standardized Variable Dependents\n",
            "Dependents\n",
            "No     4870\n",
            "Yes    2060\n",
            "Iya      20\n",
            "Name: count, dtype: int64\n",
            "\n",
            "Unique Values Count Before Standardized Variable PhoneService\n",
            "PhoneService\n",
            "Yes    6281\n",
            "No      669\n",
            "Name: count, dtype: int64\n",
            "\n",
            "Unique Values Count Before Standardized Variable MultipleLines\n",
            "MultipleLines\n",
            "No                  3346\n",
            "Yes                 2935\n",
            "No phone service     669\n",
            "Name: count, dtype: int64\n",
            "\n",
            "Unique Values Count Before Standardized Variable InternetService\n",
            "InternetService\n",
            "Fiber optic    3057\n",
            "DSL            2388\n",
            "No             1505\n",
            "Name: count, dtype: int64\n",
            "\n",
            "Unique Values Count Before Standardized Variable OnlineSecurity\n",
            "OnlineSecurity\n",
            "No                     3454\n",
            "Yes                    1991\n",
            "No internet service    1505\n",
            "Name: count, dtype: int64\n",
            "\n",
            "Unique Values Count Before Standardized Variable OnlineBackup\n",
            "OnlineBackup\n",
            "No                     3045\n",
            "Yes                    2400\n",
            "No internet service    1505\n",
            "Name: count, dtype: int64\n",
            "\n",
            "Unique Values Count Before Standardized Variable DeviceProtection\n",
            "DeviceProtection\n",
            "No                     3054\n",
            "Yes                    2391\n",
            "No internet service    1505\n",
            "Name: count, dtype: int64\n",
            "\n",
            "Unique Values Count Before Standardized Variable TechSupport\n",
            "TechSupport\n",
            "No                     3431\n",
            "Yes                    2014\n",
            "No internet service    1505\n",
            "Name: count, dtype: int64\n",
            "\n",
            "Unique Values Count Before Standardized Variable StreamingTV\n",
            "StreamingTV\n",
            "No                     2774\n",
            "Yes                    2671\n",
            "No internet service    1505\n",
            "Name: count, dtype: int64\n",
            "\n",
            "Unique Values Count Before Standardized Variable StreamingMovies\n",
            "StreamingMovies\n",
            "No                     2747\n",
            "Yes                    2698\n",
            "No internet service    1505\n",
            "Name: count, dtype: int64\n",
            "\n",
            "Unique Values Count Before Standardized Variable Contract\n",
            "Contract\n",
            "Month-to-month    3823\n",
            "Two year          1670\n",
            "One year          1457\n",
            "Name: count, dtype: int64\n",
            "\n",
            "Unique Values Count Before Standardized Variable PaperlessBilling\n",
            "PaperlessBilling\n",
            "Yes    4114\n",
            "No     2836\n",
            "Name: count, dtype: int64\n",
            "\n",
            "Unique Values Count Before Standardized Variable PaymentMethod\n",
            "PaymentMethod\n",
            "Electronic check             2337\n",
            "Mailed check                 1594\n",
            "Bank transfer (automatic)    1519\n",
            "Credit card (automatic)      1500\n",
            "Name: count, dtype: int64\n",
            "\n",
            "Unique Values Count Before Standardized Variable Churn\n",
            "Churn\n",
            "No       5114\n",
            "Yes      1827\n",
            "Churn       9\n",
            "Name: count, dtype: int64\n"
          ]
        }
      ]
    },
    {
      "cell_type": "markdown",
      "source": [
        "## Menstandarisasi Variable Kategorik"
      ],
      "metadata": {
        "id": "RvzMvMt3H7dv"
      }
    },
    {
      "cell_type": "markdown",
      "source": [
        "Setelah kita mengeteahui variable mana saja yang ada nilai tidak standard, maka kita standardkan dengan pola terbanyak nya, dengan syarat tanpa mengubah maknanya. Contoh : Iya -> Yes Kemudian liat kembali unique values dari masing-masing variable yang sudah di ubah. Gunakan fungsi replace() untuk menstandardkan nilai."
      ],
      "metadata": {
        "id": "7O2XAFR7H-bf"
      }
    },
    {
      "cell_type": "code",
      "source": [
        "df_load = df_load.replace(['Wanita','Laki-Laki','Churn','Iya'],['Female','Male','Yes','Yes'])\n",
        "\n",
        "# Masukkan variable\n",
        "for col_name in list(['gender','Dependents','Churn']):\n",
        "\tprint('\\nUnique Values Count After Standardized Variable',col_name)\n",
        "\tprint(df_load[col_name].value_counts())"
      ],
      "metadata": {
        "colab": {
          "base_uri": "https://localhost:8080/"
        },
        "id": "8WROxYzHICXU",
        "outputId": "4d734b81-0cce-4104-ffcc-3d0bdbf15c62"
      },
      "execution_count": null,
      "outputs": [
        {
          "output_type": "stream",
          "name": "stdout",
          "text": [
            "\n",
            "Unique Values Count After Standardized Variable gender\n",
            "gender\n",
            "Male      3505\n",
            "Female    3445\n",
            "Name: count, dtype: int64\n",
            "\n",
            "Unique Values Count After Standardized Variable Dependents\n",
            "Dependents\n",
            "No     4870\n",
            "Yes    2080\n",
            "Name: count, dtype: int64\n",
            "\n",
            "Unique Values Count After Standardized Variable Churn\n",
            "Churn\n",
            "No     5114\n",
            "Yes    1836\n",
            "Name: count, dtype: int64\n"
          ]
        }
      ]
    },
    {
      "cell_type": "markdown",
      "source": [
        "## Kesimpulan"
      ],
      "metadata": {
        "id": "UDQKVHPJIeoA"
      }
    },
    {
      "cell_type": "markdown",
      "source": [
        "Ketika kita amati lebih jauh dari jumlah unique value dari masing-masing variable kategorik, terlihat jelas bahwa ada beberapa variable yang tidak standar. Variable itu adalah:\n",
        "\n",
        "* Gender (Female, Male, Wanita, Laki-Laki), yang bisa di standardkan nilainya menjadi (Female, Male) karena mempunyai makna yang sama.\n",
        "* Dependents (Yes, No, Iya), yang bisa di standardkan nilainya menjadi (Yes, No) karena mempunyai makna yang sama.\n",
        "* Churn (Yes, No, Churn), yang bisa di standardkan nilainya menjadi (Yes, No) karena mempunyai makna yang sama.\n",
        "\n",
        "Setelah kita standardkan nilainya, dan kita amati kembali bentuk datanya, sudah terstandar dengan baik untuk unique value-nya."
      ],
      "metadata": {
        "id": "Y6v9L_sxIgqU"
      }
    }
  ]
}